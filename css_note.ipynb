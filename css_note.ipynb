{
 "cells": [
  {
   "cell_type": "markdown",
   "metadata": {},
   "source": [
    "### Usos de SRC y Href y Link\n",
    "\n",
    "Hacemos uso de SRC solo para expecificar el source de una imagen en cambio el Href lo utílizamos para las etiquetás anclas ```<a>``` y link para el ```<head>``` con lo cual podemos conectarnos a archivos externos como css. etc."
   ]
  },
  {
   "cell_type": "markdown",
   "metadata": {},
   "source": [
    "### Variables en CSS\n",
    "\n",
    "```css\n",
    ":root {\n",
    "  --main-bg-color: brown;\n",
    "}\n",
    "```\n",
    "La clasé habitualmente se agrega en el root para que pueda ser accedida globalmente, pero se puede utilizar cualquier otra etiqueta.\n",
    "\n",
    "Nomeclatura de la variable despúes de los dos \n",
    "```'--'+'nombre-variable'+':'+'valor-varible';```\n",
    "\n",
    "Basicamente el uso de las variables es como reservar el nombre entonces para hacer uso  de ella solo llamandola sin tener que ingresar una y otra vez el valor solo el nombre."
   ]
  },
  {
   "cell_type": "markdown",
   "metadata": {},
   "source": [
    "### Llamado de una variable\n",
    "\n",
    "```css\n",
    "details {\n",
    "  background-color: var(--main-bg-color);\n",
    "}\n",
    "```\n",
    "\n",
    "Para acceder a la variable hacemos el llamado de la funcion var(). dentro digitamos el nombre de la variable y listo.Obviamente primero hay que expecificar la funcion sobre donde se hará el llamado a la clase."
   ]
  },
  {
   "cell_type": "markdown",
   "metadata": {},
   "source": [
    "### Em vs Rem (Longitudes relativas para las fuentes)\n",
    "\n",
    "Em está anclado al elemento padre, mientras que Rem esta anclado al root, ambas unidades de medidas se utilizan para las fuentes del documento no otra cosa.\n",
    "\n",
    "La unidad \"em\" es una medida relativa que se basa en el tamaño de la fuente del elemento padre. Esto significa que el tamaño de la fuente de un elemento con \"em\" cambiará si el tamaño de la fuente del elemento padre cambia.\n",
    "\n",
    "Por ejemplo, si el elemento padre tiene un tamaño de fuente de 16px y un elemento hijo tiene un tamaño de fuente de 1em, el elemento hijo también tendrá un tamaño de fuente de 16px. Sin embargo, si el tamaño de la fuente del elemento padre cambia a 20px, el elemento hijo también cambiará a 20px.\n",
    "\n",
    "La unidad \"em\" es muy útil para crear diseños responsivos, ya que el tamaño de la fuente se ajusta automáticamente al tamaño de la fuente del elemento padre.\n",
    "\n",
    "*Rem* Es base 16px osea que ```1rem = 16px```\n",
    "\n",
    "La unidad REM se basa en el tamaño de la fuente del elemento raíz (generalmente el elemento <html>), que por defecto es de 16 píxeles. Esto significa que 1 REM equivale a 16 píxeles.\n",
    "\n",
    "La ventaja de usar REM es que nos permite establecer tamaños de fuente de forma relativa al tamaño de la fuente del elemento raíz. Esto facilita la creación de diseños responsivos, ya que podemos ajustar el tamaño de la fuente de todos los elementos de forma proporcional al tamaño de la fuente del elemento raíz.\n",
    "\n",
    "[more info: W3 Schools](https://www.w3schools.com/cssref/css_units.php)\n",
    "\n",
    "[More Examples with Alura Forum](https://www.aluracursos.com/blog/guia-de-unidades-en-css)"
   ]
  },
  {
   "cell_type": "markdown",
   "metadata": {},
   "source": [
    "### Media Query\n",
    "\n",
    "Definir un ancho máximo de \"480px\" para el celular: @media (max-width: 480px)\n",
    "\n",
    "definir un ancho máximo de \"800px\" para las tabletas: @media (max-width: 800px)"
   ]
  },
  {
   "cell_type": "markdown",
   "metadata": {},
   "source": []
  }
 ],
 "metadata": {
  "language_info": {
   "name": "csharp"
  }
 },
 "nbformat": 4,
 "nbformat_minor": 2
}
