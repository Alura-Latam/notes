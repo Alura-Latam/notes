{
 "cells": [
  {
   "cell_type": "markdown",
   "metadata": {},
   "source": [
    "Existén varias maneras de hacer un repocitorio en github:\n",
    "\n",
    "1. Click directamente en signo de mas en la barra superior a la derecha.\n",
    "2. Click en foto de perfil, luego repositories, y boton azul \"New\" en la barra superior a la derecha.\n",
    "3. Otra forma rapidá es escribir directamete en la barra de direcciones: ```repo.new```"
   ]
  },
  {
   "cell_type": "markdown",
   "metadata": {},
   "source": [
    "### Hack sobre como abrir el modo editor de desarrollador en linea para los repositorios en github.com\n",
    "\n",
    "Solo debemos ir a la pagina principal del repositorio que deseamos abrir, una vez en esa pagina tocamos la cabecera con un ``` click ``` y pulsamos el punto. -----> ```.``` y listo automaticamente debe cambiarnos la barra de dirreción por ejemplo: ```https://github.com/Alura-Latam/notes``` a está: ---> ```https://github.dev/Alura-Latam/notes```. Si lo notan fue un cambio solo en la terminación de .com a .dev."
   ]
  },
  {
   "cell_type": "markdown",
   "metadata": {},
   "source": [
    "### Git trabajando con ramás <branch>\n",
    "\n",
    "```git branch``` Esté comando nos ayuda a mostrarnos las ramas, que tiene nuestro proyecto y que están disponibles para que nosotros trabajemos con ellas. SIEMPRE HAY UN ASTERISCO QUE NOS INDICA EN QUE RAMA ESTAMOS.\n",
    "\n",
    "si utilizamos ```git checkout -b desarrollo```  Esté comando nos crea una rama llamada desarrollo y luego nos cambia a la nueva rama para trabajar con ella.\n",
    "\n",
    "```git switch <nombre de rama>``` con esté comando podemos cambiar de rama, solamente. No es como el anterior que nos crea y nos cambia. Aquí es solo cambiar.\n",
    "\n",
    "\n",
    "##### Que pasa si tienes dos ramás ejemplo y quieres hacer una fusión? Utilizamos {Merge}\n",
    "\n",
    "```git merge desarrollo``` Lo primero que tienes que ir a la ramá padré donde se guardará la fusión de las ramás. Generalmente es la rama principal <Main o Master>. Esté ejemplo es como si estuvieras en la rama main y quieres unir a está lo que ya haz hecho en la rama desarrollo."
   ]
  }
 ],
 "metadata": {
  "language_info": {
   "name": "csharp"
  }
 },
 "nbformat": 4,
 "nbformat_minor": 2
}
