{
 "cells": [
  {
   "cell_type": "markdown",
   "metadata": {},
   "source": [
    "Existén varias maneras de hacer un repocitorio en github:\n",
    "\n",
    "1. Click directamente en signo de mas en la barra superior a la derecha.\n",
    "2. Click en foto de perfil, luego repositories, y boton azul \"New\" en la barra superior a la derecha.\n",
    "3. Otra forma rapidá es escribir directamete en la barra de direcciones: ```repo.new```"
   ]
  }
 ],
 "metadata": {
  "language_info": {
   "name": "csharp"
  }
 },
 "nbformat": 4,
 "nbformat_minor": 2
}
