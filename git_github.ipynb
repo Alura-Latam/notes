{
 "cells": [
  {
   "cell_type": "markdown",
   "metadata": {},
   "source": [
    "Existén varias maneras de hacer un repocitorio en github:\n",
    "\n",
    "1. Click directamente en signo de mas en la barra superior a la derecha.\n",
    "2. Click en foto de perfil, luego repositories, y boton azul \"New\" en la barra superior a la derecha.\n",
    "3. Otra forma rapidá es escribir directamete en la barra de direcciones: ```repo.new```"
   ]
  },
  {
   "cell_type": "markdown",
   "metadata": {},
   "source": [
    "### Hack sobre como abrir el modo editor de desarrollador en linea para los repositorios en github.com\n",
    "\n",
    "Solo debemos ir a la pagina principal del repositorio que deseamos abrir, una vez en esa pagina tocamos la cabecera con un ``` click ``` y pulsamos el punto. -----> ```.``` y listo automaticamente debe cambiarnos la barra de dirreción por ejemplo: ```https://github.com/Alura-Latam/notes``` a está: ---> ```https://github.dev/Alura-Latam/notes```. Si lo notan fue un cambio solo en la terminación de .com a .dev."
   ]
  }
 ],
 "metadata": {
  "language_info": {
   "name": "csharp"
  }
 },
 "nbformat": 4,
 "nbformat_minor": 2
}
