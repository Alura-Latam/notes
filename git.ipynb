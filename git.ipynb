{
 "cells": [
  {
   "cell_type": "markdown",
   "metadata": {},
   "source": [
    "### Trabajando con git"
   ]
  },
  {
   "cell_type": "markdown",
   "metadata": {},
   "source": [
    "Ok, Ya sabes lo basíco de la instalación primero agrega tu nombre y tu correo. Bla, Bla, Bla"
   ]
  },
  {
   "cell_type": "markdown",
   "metadata": {},
   "source": [
    "### Historial de cambios en git (Log)\n",
    "\n",
    "Para ver el historial de cambios realizados solo hay que escribir en bash: ```git log```.\n",
    "\n",
    "Para ver el historial de cambios más simplificado solo es necesario agregar el ```oneline```. ```gitlog --oneline```. \n",
    "\n",
    "Si en lugar de querer ver menos información queremos ver más utilizamos: ```git log -p```\n",
    "\n",
    "También podemos buscar las informaciones de la persona autora del commit con el comando:"
   ]
  },
  {
   "cell_type": "markdown",
   "metadata": {},
   "source": [
    "### Git Clone\n",
    "\n",
    "Con el git clone también puedes clonar el repositorio para una carpeta específica:\n",
    "\n",
    "```git clone <repositorio> <mi-proyecto-clone>```\n",
    "\n",
    "\n",
    "El repositorio localizado en ```repositorio``` es clonado para una carpeta llamada:\n",
    "\n",
    "```mi-proyecto-clone```\n",
    "\n",
    "También puedes configurar el ```git clone ``` y clonar el repositorio desde una **branch** específica, diferente a la original, de esta manera:\n",
    "\n",
    "```git clone -branch new_feature <repositorio>```\n",
    "\n",
    "\n",
    "\n",
    "\n"
   ]
  },
  {
   "cell_type": "markdown",
   "metadata": {},
   "source": [
    "### Git Diff\n",
    "\n",
    "Esté nos mostrará el historial de cambios, aqui podremos ver las lineas agregadas y las eliminadas directamente en git.\n",
    "\n",
    "```git diff <index.html> <---- Aqui el nombre del archivo."
   ]
  }
 ],
 "metadata": {
  "language_info": {
   "name": "python"
  }
 },
 "nbformat": 4,
 "nbformat_minor": 2
}
